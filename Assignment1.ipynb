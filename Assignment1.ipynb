{
 "cells": [
  {
   "cell_type": "markdown",
   "metadata": {},
   "source": [
    "# Assignment 1"
   ]
  },
  {
   "cell_type": "raw",
   "metadata": {},
   "source": [
    "1.\n",
    "Write a program which will find all such numbers which are divisible by 7 but are not a multiple\n",
    "of 5, between 2000 and 3200 (both included). The numbers obtained should be printed in a\n",
    "comma-separated sequence on a single line."
   ]
  },
  {
   "cell_type": "code",
   "execution_count": 1,
   "metadata": {},
   "outputs": [],
   "source": [
    "##Asignment 1 __Q1#####\n",
    "num=[]\n",
    "\n",
    "for i in list(range(2000,3201)):\n",
    "    if i%7==0 and i%5!=0: #puting conditions for divisble by 7 and not multiple of 5\n",
    "        num.append(i)\n",
    "        \n",
    "print(num)"
   ]
  },
  {
   "cell_type": "raw",
   "metadata": {},
   "source": [
    "2.\n",
    "Write a Python program to accept the user's first and last name and then getting them printed in\n",
    "the the reverse order with a space between first name and last name."
   ]
  },
  {
   "cell_type": "code",
   "execution_count": 2,
   "metadata": {},
   "outputs": [
    {
     "name": "stdout",
     "output_type": "stream",
     "text": [
      "Enter Your First Name :subrata\n",
      "Enter your Last Name :paul\n",
      "atarbus luap\n"
     ]
    }
   ],
   "source": [
    "#First Name\n",
    "f_name=input(\"Enter Your First Name :\")\n",
    "#Last Name\n",
    "l_name=input(\"Enter your Last Name :\")\n",
    "\n",
    "print(f_name[::-1]+\" \"+l_name[::-1]) ##Reversing names using scale concepts\n"
   ]
  },
  {
   "cell_type": "raw",
   "metadata": {},
   "source": [
    "    3.\n",
    "Write a Python program to find the volume of a sphere with diameter 12 cm.\n",
    "Formula: V=4/3 * π * r 3"
   ]
  },
  {
   "cell_type": "code",
   "execution_count": 3,
   "metadata": {},
   "outputs": [
    {
     "name": "stdout",
     "output_type": "stream",
     "text": [
      "Volume of Sphere 905.142857142857cm3\n"
     ]
    }
   ],
   "source": [
    "## Calculate Area\n",
    "#Diameter\n",
    "d=12\n",
    "#radius\n",
    "r=d/2\n",
    "v=(4/3)*(22/7)*r**3 #Volume of sphere\n",
    "print('Volume of Sphere'+\" \"+str(v)+'cm3')\n"
   ]
  },
  {
   "cell_type": "raw",
   "metadata": {},
   "source": [
    "4.\n",
    "Write a program which accepts a sequence of comma-separated numbers from console and\n",
    "generate a list."
   ]
  },
  {
   "cell_type": "code",
   "execution_count": 4,
   "metadata": {},
   "outputs": [
    {
     "name": "stdout",
     "output_type": "stream",
     "text": [
      "Enter a sequence of comma seperate numbers: 1,2\n",
      "[1, 2]\n"
     ]
    }
   ],
   "source": [
    "#Asking user to enter numbers in sequence with commas\n",
    "k=input('Enter a sequence of comma seperate numbers: ')\n",
    "l=list(k)\n",
    "#print(l)\n",
    "m=[]\n",
    "for i in l[::2]: #Reading only the alternate lines ,avoiding the commas\n",
    "    m.append(int(i))\n",
    "print(m)\n"
   ]
  },
  {
   "cell_type": "raw",
   "metadata": {},
   "source": [
    "5.\n",
    "Create the below pattern using nested for loop in Python.\n",
    "*\n",
    "* *\n",
    "* * *\n",
    "* * * *\n",
    "* * * * *\n",
    "* * * *\n",
    "* * *\n",
    "* *\n",
    "*"
   ]
  },
  {
   "cell_type": "code",
   "execution_count": 5,
   "metadata": {},
   "outputs": [
    {
     "name": "stdout",
     "output_type": "stream",
     "text": [
      "*\n",
      "**\n",
      "***\n",
      "****\n",
      "*****\n",
      "****\n",
      "***\n",
      "**\n",
      "*\n",
      "\n"
     ]
    }
   ],
   "source": [
    "for i in range(6):\n",
    "    if i<5: ##this will loop ascending stars till 5 stars\n",
    "        print('*'*(i+1))\n",
    "        \n",
    "    if i==5: #this is for descending part of the stars.\n",
    "        for k in range(5):\n",
    "            print('*'*(4-k))\n",
    "            \n",
    "    "
   ]
  },
  {
   "cell_type": "raw",
   "metadata": {},
   "source": [
    "6.\n",
    "\n",
    "Write a Python program to reverse a word after accepting the input from the user."
   ]
  },
  {
   "cell_type": "code",
   "execution_count": 6,
   "metadata": {},
   "outputs": [
    {
     "name": "stdout",
     "output_type": "stream",
     "text": [
      "Enter a word :hello\n",
      "Input Word: hello\n",
      "Output: olleh\n"
     ]
    }
   ],
   "source": [
    "#Asking input from user\n",
    "word=input(\"Enter a word :\")\n",
    "print('Input Word:',word)\n",
    "\n",
    "#printing out the output using the scale concept\n",
    "print(\"Output:\",word[::-1])\n"
   ]
  },
  {
   "cell_type": "raw",
   "metadata": {},
   "source": [
    "7.\n",
    "Write a Python Program to print the given string in the format specified in the sample output.\n",
    "WE, THE PEOPLE OF INDIA, having solemnly resolved to constitute India into a\n",
    "SOVEREIGN, SOCIALIST, SECULAR, DEMOCRATIC REPUBLIC and to secure to all\n",
    "its citizens\n",
    "\n",
    "Sample Output:\n",
    "WE, THE PEOPLE OF INDIA,\n",
    "having solemnly resolved to constitute India into a SOVEREIGN, !\n",
    "SOCIALIST, SECULAR, DEMOCRATIC REPUBLIC\n",
    "and to secure to all its citizens"
   ]
  },
  {
   "cell_type": "code",
   "execution_count": 7,
   "metadata": {},
   "outputs": [
    {
     "name": "stdout",
     "output_type": "stream",
     "text": [
      "WE, THE PEOPLE OF INDIA, \n",
      " \t having solemnly resolved to constitute India into a SOVEREIGN, ! \n",
      " \t \t SOCIALIST, SECULAR, DEMOCRATIC REPUBLIC \n",
      " \t \t \t and to secure to all its citizens\n"
     ]
    }
   ],
   "source": [
    "#Trying to insert new lines using \\n , spaces using \\t\n",
    "print('WE, THE PEOPLE OF INDIA,','\\n','\\t','having solemnly resolved to constitute India into a SOVEREIGN,','!','\\n','\\t','\\t','SOCIALIST, SECULAR, DEMOCRATIC REPUBLIC','\\n','\\t','\\t','\\t','and to secure to all its citizens')"
   ]
  },
  {
   "cell_type": "code",
   "execution_count": null,
   "metadata": {},
   "outputs": [],
   "source": []
  }
 ],
 "metadata": {
  "kernelspec": {
   "display_name": "Python 3",
   "language": "python",
   "name": "python3"
  },
  "language_info": {
   "codemirror_mode": {
    "name": "ipython",
    "version": 3
   },
   "file_extension": ".py",
   "mimetype": "text/x-python",
   "name": "python",
   "nbconvert_exporter": "python",
   "pygments_lexer": "ipython3",
   "version": "3.7.3"
  }
 },
 "nbformat": 4,
 "nbformat_minor": 2
}
